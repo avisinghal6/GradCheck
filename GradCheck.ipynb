{
  "nbformat": 4,
  "nbformat_minor": 0,
  "metadata": {
    "colab": {
      "provenance": [],
      "authorship_tag": "ABX9TyMHjECdfPVVuA4kAfBOq1Ov",
      "include_colab_link": true
    },
    "kernelspec": {
      "name": "python3",
      "display_name": "Python 3"
    },
    "language_info": {
      "name": "python"
    }
  },
  "cells": [
    {
      "cell_type": "markdown",
      "metadata": {
        "id": "view-in-github",
        "colab_type": "text"
      },
      "source": [
        "<a href=\"https://colab.research.google.com/github/avisinghal6/GradCheck/blob/main/GradCheck.ipynb\" target=\"_parent\"><img src=\"https://colab.research.google.com/assets/colab-badge.svg\" alt=\"Open In Colab\"/></a>"
      ]
    },
    {
      "cell_type": "code",
      "execution_count": null,
      "metadata": {
        "id": "kmZjFkeyraKJ"
      },
      "outputs": [],
      "source": [
        "import torch\n"
      ]
    },
    {
      "cell_type": "code",
      "source": [
        "class ConvnetClassifier(torch.nn.Module):\n",
        "    def __init__(self):\n",
        "        super(ConvnetClassifier, self).__init__()\n",
        "        self.linear1 = torch.nn.Linear(in_features = 2, out_features = 3,bias=False)\n",
        "        self.linear2 = torch.nn.Linear(in_features = 3, out_features = 1,bias=False)\n",
        "\n",
        "    def forward(self, x):\n",
        "        # Pass through linear layers.\n",
        "        x = self.linear1(x)\n",
        "        print(x)\n",
        "        x = torch.nn.functional.relu(x)\n",
        "        print(x)\n",
        "        x = self.linear2(x)\n",
        "        print(x)\n",
        "        x = torch.sigmoid(x)\n",
        "        print(x)\n",
        "        return x\n",
        "\n",
        "# Test your model!\n",
        "# Create dummy batch with 24 samples, where each is an image of size 3x48x48.\n",
        "dummy_batch = torch.tensor([[1.0,-2.0],[5,-9.0],[-3,2]])\n",
        "Y=torch.tensor([[0.1],[1],[0.8]])\n",
        "my_model = ConvnetClassifier()\n",
        "my_model.linear1.weight.data=torch.tensor([[1.0,-1.0],[0.0,0.0],[1.0,1.0]])\n",
        "my_model.linear2.weight.data=torch.tensor([[1.0,0.0,-1.0]])\n",
        "\n",
        "cost_function = torch.nn.MSELoss()\n",
        "y=my_model(dummy_batch)\n",
        "loss=cost_function(y,Y)\n",
        "loss.backward()\n",
        "for p in my_model.parameters():\n",
        "  print(p.grad)\n",
        "# predictions = my_model(dummy_batch)\n",
        "\n",
        "# # Seems like working to me.\n",
        "# print(dummy_batch.shape, predictions.shape)"
      ],
      "metadata": {
        "colab": {
          "base_uri": "https://localhost:8080/"
        },
        "id": "7UIUS4djrukp",
        "outputId": "1648eb36-5cae-4fda-b770-31ad0ad847b9"
      },
      "execution_count": null,
      "outputs": [
        {
          "output_type": "stream",
          "name": "stdout",
          "text": [
            "tensor([[ 3.,  0., -1.],\n",
            "        [14.,  0., -4.],\n",
            "        [-5.,  0., -1.]], grad_fn=<MmBackward0>)\n",
            "tensor([[ 3.,  0.,  0.],\n",
            "        [14.,  0.,  0.],\n",
            "        [ 0.,  0.,  0.]], grad_fn=<ReluBackward0>)\n",
            "tensor([[ 3.],\n",
            "        [14.],\n",
            "        [ 0.]], grad_fn=<MmBackward0>)\n",
            "tensor([[0.9526],\n",
            "        [1.0000],\n",
            "        [0.5000]], grad_fn=<SigmoidBackward0>)\n",
            "tensor([[ 0.0257, -0.0514],\n",
            "        [ 0.0000,  0.0000],\n",
            "        [ 0.0000,  0.0000]])\n",
            "tensor([[0.0770, 0.0000, 0.0000]])\n"
          ]
        }
      ]
    },
    {
      "cell_type": "code",
      "source": [
        "import numpy as np\n"
      ],
      "metadata": {
        "id": "B3xb6LL3sfBm"
      },
      "execution_count": null,
      "outputs": []
    },
    {
      "cell_type": "code",
      "source": [
        "a=np.array([[3,14,0],[0,0,0],[0,0,0]]).T\n",
        "d=np.array([[-0.85,0.01,0.3]])\n"
      ],
      "metadata": {
        "id": "M28eeLx-4vMd"
      },
      "execution_count": null,
      "outputs": []
    },
    {
      "cell_type": "code",
      "source": [
        "d"
      ],
      "metadata": {
        "colab": {
          "base_uri": "https://localhost:8080/"
        },
        "id": "voodcPSP49ck",
        "outputId": "a24a8977-7a3c-409b-d4f0-877c4f024290"
      },
      "execution_count": null,
      "outputs": [
        {
          "output_type": "execute_result",
          "data": {
            "text/plain": [
              "array([[-0.85,  0.01,  0.3 ]])"
            ]
          },
          "metadata": {},
          "execution_count": 134
        }
      ]
    },
    {
      "cell_type": "code",
      "source": [
        "\n",
        "e=np.array([[0.95,0.99,0.5]])\n",
        "b=np.array([[0.05,0.01,0.5]])\n",
        "f=d*e*b"
      ],
      "metadata": {
        "id": "O6Fg5Tva495x"
      },
      "execution_count": null,
      "outputs": []
    },
    {
      "cell_type": "code",
      "source": [
        "f"
      ],
      "metadata": {
        "colab": {
          "base_uri": "https://localhost:8080/"
        },
        "id": "4yXySBqjCt_l",
        "outputId": "6c4b320b-985a-4a92-e587-ea7eddf379c8"
      },
      "execution_count": null,
      "outputs": [
        {
          "output_type": "execute_result",
          "data": {
            "text/plain": [
              "array([[-4.0375e-02,  9.9000e-05,  7.5000e-02]])"
            ]
          },
          "metadata": {},
          "execution_count": 9
        }
      ]
    },
    {
      "cell_type": "code",
      "source": [
        "ans=f@a"
      ],
      "metadata": {
        "id": "RlxqutHR5nXo"
      },
      "execution_count": null,
      "outputs": []
    },
    {
      "cell_type": "code",
      "source": [
        "ans*(-2.0/3.0)"
      ],
      "metadata": {
        "colab": {
          "base_uri": "https://localhost:8080/"
        },
        "id": "UBeAFpmG5pzN",
        "outputId": "fa63adf7-a76f-46e5-d384-fa92bbdc7b2e"
      },
      "execution_count": null,
      "outputs": [
        {
          "output_type": "execute_result",
          "data": {
            "text/plain": [
              "array([[ 0.079826, -0.      , -0.      ]])"
            ]
          },
          "metadata": {},
          "execution_count": 8
        }
      ]
    },
    {
      "cell_type": "code",
      "source": [
        "ans*(-2.0/3.0)"
      ],
      "metadata": {
        "colab": {
          "base_uri": "https://localhost:8080/"
        },
        "id": "gQUJPavV5uUV",
        "outputId": "80a88361-a7c0-4917-de99-5b9d6ab4102d"
      },
      "execution_count": null,
      "outputs": [
        {
          "output_type": "execute_result",
          "data": {
            "text/plain": [
              "array([[ 0.08075   ,  0.37683333, -0.        ]])"
            ]
          },
          "metadata": {},
          "execution_count": 103
        }
      ]
    },
    {
      "cell_type": "code",
      "source": [
        "x=np.array([[1,5,-3],[-2,-9,2]])\n",
        "w2=np.array([[1,0,-1]])\n",
        "a=np.array([[1.0,1.0,0.0],[0.0,0.0,0.0],[0.0,0.0,0.0]])\n",
        "y=np.array([[-0.04,0.0,0.0075]])\n",
        "ans=f.T@w2*a@x.T"
      ],
      "metadata": {
        "id": "_ckifCjH7_kG"
      },
      "execution_count": null,
      "outputs": []
    },
    {
      "cell_type": "code",
      "source": [
        "w2.shape"
      ],
      "metadata": {
        "colab": {
          "base_uri": "https://localhost:8080/"
        },
        "id": "LB0JEBlqdzHm",
        "outputId": "95de0495-3c08-4c2c-a668-2617dce5e14a"
      },
      "execution_count": null,
      "outputs": [
        {
          "output_type": "execute_result",
          "data": {
            "text/plain": [
              "(1, 3)"
            ]
          },
          "metadata": {},
          "execution_count": 165
        }
      ]
    },
    {
      "cell_type": "code",
      "source": [
        "ans=ans*(-2.0/3.0)"
      ],
      "metadata": {
        "id": "OLNnAnj_d4Sm"
      },
      "execution_count": null,
      "outputs": []
    },
    {
      "cell_type": "code",
      "source": [
        "ans.T"
      ],
      "metadata": {
        "colab": {
          "base_uri": "https://localhost:8080/"
        },
        "id": "XAlsakENd6FI",
        "outputId": "21abafdc-d61b-4715-ed90-2c0afbe7c8e2"
      },
      "execution_count": null,
      "outputs": [
        {
          "output_type": "execute_result",
          "data": {
            "text/plain": [
              "array([[ 0.02691667, -0.        , -0.        ],\n",
              "       [-0.05383333, -0.        , -0.        ]])"
            ]
          },
          "metadata": {},
          "execution_count": 12
        }
      ]
    },
    {
      "cell_type": "code",
      "source": [],
      "metadata": {
        "id": "5eFzuJLwobnr"
      },
      "execution_count": null,
      "outputs": []
    }
  ]
}